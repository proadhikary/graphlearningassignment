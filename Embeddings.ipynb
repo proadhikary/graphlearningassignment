{
 "cells": [
  {
   "cell_type": "code",
   "execution_count": 1,
   "id": "43804049",
   "metadata": {},
   "outputs": [],
   "source": [
    "!export http_proxy=\"http://proxy61.iitd.ac.in:3128\"\n",
    "!export https_proxy=\"http://proxy61.iitd.ac.in:3128\""
   ]
  },
  {
   "cell_type": "code",
   "execution_count": null,
   "id": "e4299643",
   "metadata": {},
   "outputs": [
    {
     "name": "stdout",
     "output_type": "stream",
     "text": [
      "Looking in indexes: https://pypi.org/simple, https://download.pytorch.org/whl/cu118\n",
      "\u001b[33mWARNING: Retrying (Retry(total=4, connect=None, read=None, redirect=None, status=None)) after connection broken by 'NewConnectionError('<pip._vendor.urllib3.connection.HTTPSConnection object at 0x744a4afbb2c0>: Failed to establish a new connection: [Errno 101] Network is unreachable')': /simple/torch/\u001b[0m\u001b[33m\n",
      "\u001b[0m\u001b[33mWARNING: Retrying (Retry(total=3, connect=None, read=None, redirect=None, status=None)) after connection broken by 'NewConnectionError('<pip._vendor.urllib3.connection.HTTPSConnection object at 0x744a4ad7b5c0>: Failed to establish a new connection: [Errno 101] Network is unreachable')': /simple/torch/\u001b[0m\u001b[33m\n",
      "\u001b[0m\u001b[33mWARNING: Retrying (Retry(total=2, connect=None, read=None, redirect=None, status=None)) after connection broken by 'NewConnectionError('<pip._vendor.urllib3.connection.HTTPSConnection object at 0x744a4ad7bc20>: Failed to establish a new connection: [Errno 101] Network is unreachable')': /simple/torch/\u001b[0m\u001b[33m\n",
      "\u001b[0m\u001b[33mWARNING: Retrying (Retry(total=1, connect=None, read=None, redirect=None, status=None)) after connection broken by 'NewConnectionError('<pip._vendor.urllib3.connection.HTTPSConnection object at 0x744a4ad7be30>: Failed to establish a new connection: [Errno 101] Network is unreachable')': /simple/torch/\u001b[0m\u001b[33m\n",
      "\u001b[0m\u001b[33mWARNING: Retrying (Retry(total=0, connect=None, read=None, redirect=None, status=None)) after connection broken by 'NewConnectionError('<pip._vendor.urllib3.connection.HTTPSConnection object at 0x744a4ad7be90>: Failed to establish a new connection: [Errno 101] Network is unreachable')': /simple/torch/\u001b[0m\u001b[33m\n",
      "\u001b[0m\u001b[33mWARNING: Retrying (Retry(total=4, connect=None, read=None, redirect=None, status=None)) after connection broken by 'NewConnectionError('<pip._vendor.urllib3.connection.HTTPSConnection object at 0x744a4ad74350>: Failed to establish a new connection: [Errno 101] Network is unreachable')': /whl/cu118/torch/\u001b[0m\u001b[33m\n",
      "\u001b[0m\u001b[33mWARNING: Retrying (Retry(total=3, connect=None, read=None, redirect=None, status=None)) after connection broken by 'NewConnectionError('<pip._vendor.urllib3.connection.HTTPSConnection object at 0x744a4ad74650>: Failed to establish a new connection: [Errno 101] Network is unreachable')': /whl/cu118/torch/\u001b[0m\u001b[33m\n",
      "\u001b[0m\u001b[33mWARNING: Retrying (Retry(total=2, connect=None, read=None, redirect=None, status=None)) after connection broken by 'NewConnectionError('<pip._vendor.urllib3.connection.HTTPSConnection object at 0x744a4ad74860>: Failed to establish a new connection: [Errno 101] Network is unreachable')': /whl/cu118/torch/\u001b[0m\u001b[33m\n",
      "\u001b[0m\u001b[33mWARNING: Retrying (Retry(total=1, connect=None, read=None, redirect=None, status=None)) after connection broken by 'NewConnectionError('<pip._vendor.urllib3.connection.HTTPSConnection object at 0x744a4ad74a70>: Failed to establish a new connection: [Errno 101] Network is unreachable')': /whl/cu118/torch/\u001b[0m\u001b[33m\n",
      "\u001b[0m\u001b[33mWARNING: Retrying (Retry(total=0, connect=None, read=None, redirect=None, status=None)) after connection broken by 'NewConnectionError('<pip._vendor.urllib3.connection.HTTPSConnection object at 0x744a4ad74ce0>: Failed to establish a new connection: [Errno 101] Network is unreachable')': /whl/cu118/torch/\u001b[0m\u001b[33m\n",
      "\u001b[0m\u001b[31mERROR: Could not find a version that satisfies the requirement torch (from versions: none)\u001b[0m\u001b[31m\n",
      "\u001b[0m\u001b[31mERROR: No matching distribution found for torch\u001b[0m\u001b[31m\n",
      "\u001b[0mLooking in links: https://data.pyg.org/whl/torch-2.0.0+cu118.html\n",
      "\u001b[33mWARNING: Retrying (Retry(total=4, connect=None, read=None, redirect=None, status=None)) after connection broken by 'NewConnectionError('<pip._vendor.urllib3.connection.HTTPSConnection object at 0x71124fbeaab0>: Failed to establish a new connection: [Errno 101] Network is unreachable')': /whl/torch-2.0.0+cu118.html\u001b[0m\u001b[33m\n",
      "\u001b[0m\u001b[33mWARNING: Retrying (Retry(total=3, connect=None, read=None, redirect=None, status=None)) after connection broken by 'NewConnectionError('<pip._vendor.urllib3.connection.HTTPSConnection object at 0x71124e721940>: Failed to establish a new connection: [Errno 101] Network is unreachable')': /whl/torch-2.0.0+cu118.html\u001b[0m\u001b[33m\n",
      "\u001b[0m\u001b[33mWARNING: Retrying (Retry(total=2, connect=None, read=None, redirect=None, status=None)) after connection broken by 'NewConnectionError('<pip._vendor.urllib3.connection.HTTPSConnection object at 0x71124e7230e0>: Failed to establish a new connection: [Errno 101] Network is unreachable')': /whl/torch-2.0.0+cu118.html\u001b[0m\u001b[33m\n",
      "\u001b[0m\u001b[33mWARNING: Retrying (Retry(total=1, connect=None, read=None, redirect=None, status=None)) after connection broken by 'NewConnectionError('<pip._vendor.urllib3.connection.HTTPSConnection object at 0x71124e7237d0>: Failed to establish a new connection: [Errno 101] Network is unreachable')': /whl/torch-2.0.0+cu118.html\u001b[0m\u001b[33m\n",
      "\u001b[0m\u001b[33mWARNING: Retrying (Retry(total=0, connect=None, read=None, redirect=None, status=None)) after connection broken by 'NewConnectionError('<pip._vendor.urllib3.connection.HTTPSConnection object at 0x71124e723a10>: Failed to establish a new connection: [Errno 101] Network is unreachable')': /whl/torch-2.0.0+cu118.html\u001b[0m\u001b[33m\n",
      "\u001b[0m\u001b[33mWARNING: Retrying (Retry(total=4, connect=None, read=None, redirect=None, status=None)) after connection broken by 'NewConnectionError('<pip._vendor.urllib3.connection.HTTPSConnection object at 0x71124e723ec0>: Failed to establish a new connection: [Errno 101] Network is unreachable')': /simple/torch-scatter/\u001b[0m\u001b[33m\n",
      "\u001b[0m\u001b[33mWARNING: Retrying (Retry(total=3, connect=None, read=None, redirect=None, status=None)) after connection broken by 'NewConnectionError('<pip._vendor.urllib3.connection.HTTPSConnection object at 0x71124e530230>: Failed to establish a new connection: [Errno 101] Network is unreachable')': /simple/torch-scatter/\u001b[0m\u001b[33m\n",
      "\u001b[0m\u001b[33mWARNING: Retrying (Retry(total=2, connect=None, read=None, redirect=None, status=None)) after connection broken by 'NewConnectionError('<pip._vendor.urllib3.connection.HTTPSConnection object at 0x71124e530440>: Failed to establish a new connection: [Errno 101] Network is unreachable')': /simple/torch-scatter/\u001b[0m\u001b[33m\n",
      "\u001b[0m\u001b[33mWARNING: Retrying (Retry(total=1, connect=None, read=None, redirect=None, status=None)) after connection broken by 'NewConnectionError('<pip._vendor.urllib3.connection.HTTPSConnection object at 0x71124e7cf140>: Failed to establish a new connection: [Errno 101] Network is unreachable')': /simple/torch-scatter/\u001b[0m\u001b[33m\n",
      "\u001b[0m\u001b[33mWARNING: Retrying (Retry(total=0, connect=None, read=None, redirect=None, status=None)) after connection broken by 'NewConnectionError('<pip._vendor.urllib3.connection.HTTPSConnection object at 0x71124e723950>: Failed to establish a new connection: [Errno 101] Network is unreachable')': /simple/torch-scatter/\u001b[0m\u001b[33m\n",
      "\u001b[0m"
     ]
    }
   ],
   "source": [
    "!pip install torch torchvision torchaudio --extra-index-url https://download.pytorch.org/whl/cu118\n",
    "\n",
    "# Install PyTorch Geometric and its dependencies\n",
    "!pip install torch-scatter -f https://data.pyg.org/whl/torch-2.0.0+cu118.html\n",
    "!pip install torch-sparse -f https://data.pyg.org/whl/torch-2.0.0+cu118.html\n",
    "!pip install torch-cluster -f https://data.pyg.org/whl/torch-2.0.0+cu118.html\n",
    "!pip install torch-spline-conv -f https://data.pyg.org/whl/torch-2.0.0+cu118.html\n",
    "!pip install torch-geometric\n",
    "\n",
    "# Install additional libraries\n",
    "!pip install networkx matplotlib scikit-learn pandas"
   ]
  },
  {
   "cell_type": "code",
   "execution_count": 28,
   "id": "f86ce670",
   "metadata": {},
   "outputs": [
    {
     "name": "stdout",
     "output_type": "stream",
     "text": [
      "            0           1\n",
      "0   110969224   141396276\n",
      "1  1127956084  2272735952\n",
      "2  2604051056    84758160\n",
      "3  2232678900  2516363444\n",
      "4  2011923285  2288872012\n",
      "5  1760922800  2230700340\n",
      "6  2617354171   509183469\n",
      "7  2112846151  2208627363\n",
      "8  2117692661  2214136560\n",
      "9   104489369  3132367475\n",
      "<class 'pandas.core.frame.DataFrame'>\n",
      "RangeIndex: 2316948 entries, 0 to 2316947\n",
      "Data columns (total 2 columns):\n",
      " #   Column  Dtype\n",
      "---  ------  -----\n",
      " 0   0       int64\n",
      " 1   1       int64\n",
      "dtypes: int64(2)\n",
      "memory usage: 35.4 MB\n",
      "Number of nodes: 105938\n",
      "Number of edges: 2316948\n"
     ]
    }
   ],
   "source": [
    "import wget\n",
    "import torch\n",
    "from torch_geometric.data import Data\n",
    "import numpy as np\n",
    "import pandas as pd\n",
    "\n",
    "# url = \"https://snap.stanford.edu/data/flickrEdges.txt.gz\"\n",
    "# filename = wget.download(url)\n",
    "filename = \"flickrEdges.txt.gz\"\n",
    "\n",
    "\n",
    "# Load the dataset using pandas\n",
    "edge_df = pd.read_csv(filename, comment='#', compression='gzip', header=None, sep=\" \")\n",
    "print(edge_df.head(10))\n",
    "edge_df.info(verbose=True)\n",
    "\n",
    "edge_df.columns = ['source', 'target']\n",
    "# Map original node IDs to new zero-based indices\n",
    "node_ids = pd.unique(edge_df[['source', 'target']].values.ravel())\n",
    "node_id_map = {node_id: idx for idx, node_id in enumerate(node_ids)}\n",
    "num_nodes = len(node_ids)\n",
    "\n",
    "# Apply the mapping to the edge DataFrame\n",
    "edge_df_mapped = edge_df.replace(node_id_map)\n",
    "\n",
    "# Create edge_index tensor\n",
    "edge_index = torch.tensor(edge_df_mapped.values, dtype=torch.long).t().contiguous()\n",
    "\n",
    "# Create a PyTorch Geometric Data object\n",
    "data = Data(edge_index=edge_index, num_nodes=num_nodes)\n",
    "\n",
    "print(f'Number of nodes: {data.num_nodes}')\n",
    "print(f'Number of edges: {data.num_edges}')"
   ]
  }
 ],
 "metadata": {
  "kernelspec": {
   "display_name": "graph",
   "language": "python",
   "name": "graph"
  },
  "language_info": {
   "codemirror_mode": {
    "name": "ipython",
    "version": 3
   },
   "file_extension": ".py",
   "mimetype": "text/x-python",
   "name": "python",
   "nbconvert_exporter": "python",
   "pygments_lexer": "ipython3",
   "version": "3.10.12"
  }
 },
 "nbformat": 4,
 "nbformat_minor": 5
}
